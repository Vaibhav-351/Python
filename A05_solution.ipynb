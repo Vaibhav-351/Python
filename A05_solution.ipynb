{
 "cells": [
  {
   "cell_type": "markdown",
   "id": "3761c081",
   "metadata": {},
   "source": [
    "# 1. Write a Python Program to Find LCM?"
   ]
  },
  {
   "cell_type": "code",
   "execution_count": null,
   "id": "d13aded0",
   "metadata": {},
   "outputs": [],
   "source": [
    "print(\"Enter Two Numbers: \")\n",
    "numOne = int(input())\n",
    "numTwo = int(input())\n",
    "\n",
    "if numOne>numTwo:\n",
    "    lcm = numOne\n",
    "else:\n",
    "    lcm = numTwo\n",
    "\n",
    "while True:\n",
    "    if lcm%numOne==0 and lcm%numTwo==0:\n",
    "        break\n",
    "    else:\n",
    "        lcm = lcm + 1\n",
    "\n",
    "print(\"\\nLCM =\", lcm)"
   ]
  },
  {
   "cell_type": "markdown",
   "id": "db5e9f4f",
   "metadata": {},
   "source": [
    "# 2. Write a Python Program to Find HCF?"
   ]
  },
  {
   "cell_type": "code",
   "execution_count": null,
   "id": "11af7914",
   "metadata": {},
   "outputs": [],
   "source": [
    "print(\"Enter Two Numbers: \", end=\"\")\n",
    "no = int(input())\n",
    "nt = int(input())\n",
    "\n",
    "if no>nt:\n",
    "    hcf = no\n",
    "else:\n",
    "    hcf = nt\n",
    "\n",
    "while True:\n",
    "    if no%hcf==0 and nt%hcf==0:\n",
    "        break\n",
    "    else:\n",
    "        hcf = hcf - 1\n",
    "\n",
    "print(\"\\nHCF (\" + str(no) + \", \" + str(nt) + \") = \", hcf)"
   ]
  },
  {
   "cell_type": "markdown",
   "id": "44b5d516",
   "metadata": {},
   "source": [
    "# 3. Write a Python Program to Convert Decimal to Binary, Octal and Hexadecimal?"
   ]
  },
  {
   "cell_type": "code",
   "execution_count": null,
   "id": "8bc38d64",
   "metadata": {},
   "outputs": [],
   "source": [
    "#Program to Convert Decimal to Binary\n",
    "\n",
    "print(\"Enter the Decimal Number: \")\n",
    "dnum = int(input())\n",
    "i = 0\n",
    "bnum = []\n",
    "while dnum!=0:\n",
    "    rem = dnum%2\n",
    "    bnum.insert(i, rem)\n",
    "    i = i+1\n",
    "    dnum = int(dnum/2)\n",
    "\n",
    "i = i-1\n",
    "print(\"\\nEquivalent Binary Value is:\")\n",
    "while i>=0:\n",
    "    print(end=str(bnum[i]))\n",
    "    i = i-1"
   ]
  },
  {
   "cell_type": "code",
   "execution_count": null,
   "id": "c851af42",
   "metadata": {},
   "outputs": [],
   "source": [
    "#Program to Convert Decimal to Hexadecimal\n",
    "print(\"Enter the Decimal Number: \")\n",
    "decnum = int(input())\n",
    "\n",
    "i = 0\n",
    "hexdecnum = []\n",
    "while decnum!=0:\n",
    "    rem = decnum % 16\n",
    "    if rem<10:\n",
    "        rem = rem+48\n",
    "    else:\n",
    "        rem = rem+55\n",
    "    rem = chr(rem)\n",
    "    hexdecnum.insert(i, rem)\n",
    "    i = i+1\n",
    "    decnum = int(decnum / 16)\n",
    "\n",
    "print(\"\\nEquivalent Hexadecimal Value is: \")\n",
    "i = i-1\n",
    "while i>=0:\n",
    "    print(end=hexdecnum[i])\n",
    "    i = i-1"
   ]
  },
  {
   "cell_type": "code",
   "execution_count": null,
   "id": "1ded6441",
   "metadata": {},
   "outputs": [],
   "source": [
    "##Program to Convert Decimal to Octal\n",
    "\n",
    "print(\"Enter the Decimal Number: \")\n",
    "decnum = int(input())\n",
    "\n",
    "i = 0\n",
    "octnum = []\n",
    "while decnum!=0:\n",
    "    rem = decnum%8\n",
    "    octnum.insert(i, rem)\n",
    "    i = i+1\n",
    "    decnum = int(decnum/8)\n",
    "\n",
    "print(\"\\nEquivalent Octal Value is: \")\n",
    "i = i-1\n",
    "while i>=0:\n",
    "    print(octnum[i], end=\"\")\n",
    "    i = i-1"
   ]
  },
  {
   "cell_type": "markdown",
   "id": "830b8775",
   "metadata": {},
   "source": [
    "# 4. Write a Python Program To Find ASCII value of a character?"
   ]
  },
  {
   "cell_type": "code",
   "execution_count": 1,
   "id": "4e4f4dc1",
   "metadata": {},
   "outputs": [
    {
     "name": "stdout",
     "output_type": "stream",
     "text": [
      "Enter a char to find it's ASCII value:d\n",
      "The ASCII value of 'd' is 100\n",
      "Enter a ASCII value:23\n",
      "The CHaracter of ASCII number' 23 ' is \u0017\n"
     ]
    }
   ],
   "source": [
    "# Program to find the ASCII value of the given character using build in function\n",
    "char = input(\"Enter a char to find it's ASCII value:\")\n",
    "print(\"The ASCII value of '\" + char + \"' is\", ord(char))\n",
    "\n",
    "# Program to find the Character of given ASCII value using build in function\n",
    "value = int(input(\"Enter a ASCII value:\"))\n",
    "print(\"The CHaracter of ASCII number'\", value , \"' is\", chr(value))"
   ]
  },
  {
   "cell_type": "markdown",
   "id": "2fbb04c6",
   "metadata": {},
   "source": [
    "# 5. Write a Python Program to Make a Simple Calculator with 4 basic mathematical operations?"
   ]
  },
  {
   "cell_type": "code",
   "execution_count": null,
   "id": "1cadc321",
   "metadata": {},
   "outputs": [],
   "source": [
    "num1 = int(input( \"Number 1:\" ))\n",
    "sign = input( \"Sign:\" )\n",
    "num2 = int(input( \"Number 2:\" ))\n",
    "\n",
    "\n",
    "\n",
    "def sub(n1,n2):\n",
    "    return n1-n2\n",
    "    \n",
    "def add(n1,n2):\n",
    "    return n1+n2\n",
    "    \n",
    "def mult(n1,n2):\n",
    "    return n1*n2\n",
    "    \n",
    "def div_remainder(n1,n2):\n",
    "    return n1%n2\n",
    "    \n",
    "def div_quotient(n1,n2):\n",
    "    return n1/n2\n",
    "    \n",
    "def div_full_quotient(n1,n2):\n",
    "    return n1//n2\n",
    "    \n",
    "match sign:\n",
    "    case\"-\":\n",
    "        sub_returned = sub(num1,num2)\n",
    "        print(\"Subtraction is\",sub_returned)\n",
    "        \n",
    "    case\"+\":\n",
    "        add_returned = add(num1,num2)\n",
    "        print(\"Addition is\",add_returned)\n",
    "        \n",
    "    case\"*\":\n",
    "        mult_returned = mult(num1,num2)\n",
    "        print(\"multiplication is\",mult_returned)\n",
    "        \n",
    "    case\"%\":\n",
    "        remainder_returned = div_remainder(num1,num2)\n",
    "        print(\"remainder is\",remainder_returned)\n",
    "        \n",
    "    case\"/\":\n",
    "        quotient_returned = div_quotient(num1,num2)\n",
    "        print(\"quotient is\",quotient_returned)\n",
    "        \n",
    "    case\"//\":\n",
    "        full_quotient_returned = div_full_quotient(num1,num2)\n",
    "        print(\"complete quotient is\",full_quotient_returned)\n",
    "        \n",
    "    case _:\n",
    "        print(\"Enter valid operator\")"
   ]
  }
 ],
 "metadata": {
  "kernelspec": {
   "display_name": "Python 3 (ipykernel)",
   "language": "python",
   "name": "python3"
  },
  "language_info": {
   "codemirror_mode": {
    "name": "ipython",
    "version": 3
   },
   "file_extension": ".py",
   "mimetype": "text/x-python",
   "name": "python",
   "nbconvert_exporter": "python",
   "pygments_lexer": "ipython3",
   "version": "3.10.9"
  }
 },
 "nbformat": 4,
 "nbformat_minor": 5
}
