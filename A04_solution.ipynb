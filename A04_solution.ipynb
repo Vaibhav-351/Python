{
 "cells": [
  {
   "cell_type": "markdown",
   "id": "26498ec6",
   "metadata": {},
   "source": [
    "# 1. Write a Python Program to Find the Factorial of a Number?"
   ]
  },
  {
   "cell_type": "code",
   "execution_count": 1,
   "id": "d16b751c",
   "metadata": {},
   "outputs": [
    {
     "name": "stdout",
     "output_type": "stream",
     "text": [
      "Enter a number to find factorial:6\n",
      "Factorial of 6 is = 720\n"
     ]
    }
   ],
   "source": [
    "#Take input from user\n",
    "number = int(input(\"Enter a number to find factorial:\"))\n",
    "\n",
    "factorial = 1\n",
    "#Check if number is positive , zero or negative\n",
    "if number == 0:\n",
    "    print(\"Factorial of 0 is 0\")\n",
    "elif number < 0:\n",
    "    print(\"Factorial of negative number is not valid\")\n",
    "else:\n",
    "    for numbers_in_loop in range(1,number+1):\\\n",
    "        factorial = factorial*numbers_in_loop\n",
    "    print(\"Factorial of\",number,\"is =\",factorial)"
   ]
  },
  {
   "cell_type": "markdown",
   "id": "3c5201c4",
   "metadata": {},
   "source": [
    "# 2. Write a Python Program to Display the multiplication Table?"
   ]
  },
  {
   "cell_type": "code",
   "execution_count": 2,
   "id": "839a8a90",
   "metadata": {},
   "outputs": [
    {
     "name": "stdout",
     "output_type": "stream",
     "text": [
      "Enter a number to find Table:5\n",
      "5\n",
      "10\n",
      "15\n",
      "20\n",
      "25\n",
      "30\n",
      "35\n",
      "40\n",
      "45\n",
      "50\n"
     ]
    }
   ],
   "source": [
    "#Take input from user\n",
    "number = int(input(\"Enter a number to find Table:\"))\n",
    "if(number == 0):\n",
    "    print(\"Table of zero is not valid\")\n",
    "elif(number < 0):\n",
    "     print(\"Table of negative number is not valid\")\n",
    "else:\n",
    "    for i in range(1,11):\n",
    "        print(number*i)"
   ]
  },
  {
   "cell_type": "markdown",
   "id": "9c941475",
   "metadata": {},
   "source": [
    "# 3. Write a Python Program to Print the Fibonacci sequence?"
   ]
  },
  {
   "cell_type": "code",
   "execution_count": 3,
   "id": "3575f495",
   "metadata": {},
   "outputs": [
    {
     "name": "stdout",
     "output_type": "stream",
     "text": [
      "How many terms? 5\n",
      "Fibonacci sequence:\n",
      "0\n",
      "1\n",
      "1\n",
      "2\n",
      "3\n"
     ]
    }
   ],
   "source": [
    "num_of_terms = int(input(\"How many terms? \"))\n",
    "\n",
    "# first two terms\n",
    "n1, n2 = 0, 1\n",
    "count = 0\n",
    "\n",
    "# check if the number of terms is valid\n",
    "if num_of_terms <= 0:\n",
    "   print(\"Please enter a positive integer\")\n",
    "# if there is only one term, return n1\n",
    "elif num_of_terms == 1:\n",
    "   print(\"Fibonacci sequence upto\",num_of_terms,\":\")\n",
    "   print(n1)\n",
    "# generate fibonacci sequence\n",
    "else:\n",
    "   print(\"Fibonacci sequence:\")\n",
    "   while count < num_of_terms:\n",
    "       print(n1)\n",
    "       nth = n1 + n2\n",
    "       # update values\n",
    "       n1 = n2\n",
    "       n2 = nth\n",
    "       count += 1"
   ]
  },
  {
   "cell_type": "markdown",
   "id": "eb0f90d7",
   "metadata": {},
   "source": [
    "# 4. Write a Python Program to Check Armstrong Number?"
   ]
  },
  {
   "cell_type": "code",
   "execution_count": 4,
   "id": "f8b544cd",
   "metadata": {},
   "outputs": [
    {
     "name": "stdout",
     "output_type": "stream",
     "text": [
      "Enter a number to check if it is an ARmstrong number:4\n",
      "It is an Armstrong number\n"
     ]
    }
   ],
   "source": [
    "#take input from user\n",
    "num = int(input(\"Enter a number to check if it is an ARmstrong number:\"))\n",
    "result = 0\n",
    "\n",
    "#Check if number is valid or not\n",
    "if(num <= 0):\n",
    "    print(\"Enter valid number\")\n",
    "else:\n",
    "    check_num = num\n",
    "    n = len(str(num))\n",
    "    while(num != 0):\n",
    "        remainder = num%10\n",
    "        result = result+remainder**n\n",
    "        num = num//10\n",
    "        \n",
    "    if(result == check_num):\n",
    "            print(\"It is an Armstrong number\")\n",
    "    else:\n",
    "        print(\"NO,It is not an Armstrong number \")"
   ]
  },
  {
   "cell_type": "markdown",
   "id": "bc31104b",
   "metadata": {},
   "source": [
    "# 5. Write a Python Program to Find Armstrong Number in an Interval?"
   ]
  },
  {
   "cell_type": "code",
   "execution_count": 5,
   "id": "9e5d664a",
   "metadata": {},
   "outputs": [
    {
     "name": "stdout",
     "output_type": "stream",
     "text": [
      "Enter Lower limit:3\n",
      "Enter Upper limit:6\n",
      "3\n",
      "4\n",
      "5\n",
      "6\n"
     ]
    }
   ],
   "source": [
    "#take input from user\n",
    "Lower_limit = int(input(\"Enter Lower limit:\"))\n",
    "Upper_limit = int(input(\"Enter Upper limit:\"))\n",
    "\n",
    "\n",
    "for num in range(Lower_limit,Upper_limit+1):\n",
    "    order = len(str(num))\n",
    "    Addition = 0\n",
    "    temp = num #temp variable to copy original number into it and use it for operations\n",
    "    \n",
    "    while(temp > 0):\n",
    "        last_digit = temp % 10\n",
    "        Addition+=last_digit**order\n",
    "        \n",
    "        temp = temp//10\n",
    "        \n",
    "    if(Addition == num):\n",
    "        print(num)"
   ]
  },
  {
   "cell_type": "markdown",
   "id": "af1897c9",
   "metadata": {},
   "source": [
    "# 6. Write a Python Program to Find the Sum of Natural Numbers?"
   ]
  },
  {
   "cell_type": "code",
   "execution_count": 6,
   "id": "dd50013e",
   "metadata": {},
   "outputs": [
    {
     "name": "stdout",
     "output_type": "stream",
     "text": [
      "Sum of natural numbers up to num:10\n",
      "Sum of first 10 natural numbers is =  55\n"
     ]
    }
   ],
   "source": [
    "#take input from user\n",
    "num = int(input(\"Sum of natural numbers up to num:\"))\n",
    "\n",
    "\n",
    "if(num <= 0 ):\n",
    "    print(\"Enter positive number\")\n",
    "else:\n",
    "    Addition = 0\n",
    "    \n",
    "    for i in range(1,num+1):\n",
    "        Addition = Addition+i\n",
    "        \n",
    "    print(\"Sum of first\",num,\"natural numbers is = \",Addition)"
   ]
  },
  {
   "cell_type": "code",
   "execution_count": null,
   "id": "3cd487bd",
   "metadata": {},
   "outputs": [],
   "source": []
  }
 ],
 "metadata": {
  "kernelspec": {
   "display_name": "Python 3 (ipykernel)",
   "language": "python",
   "name": "python3"
  },
  "language_info": {
   "codemirror_mode": {
    "name": "ipython",
    "version": 3
   },
   "file_extension": ".py",
   "mimetype": "text/x-python",
   "name": "python",
   "nbconvert_exporter": "python",
   "pygments_lexer": "ipython3",
   "version": "3.10.9"
  }
 },
 "nbformat": 4,
 "nbformat_minor": 5
}
