{
 "cells": [
  {
   "cell_type": "markdown",
   "id": "67f80234",
   "metadata": {},
   "source": [
    "# 1. Define a class with a generator which can iterate the numbers, which are divisible by 7, between a given range 0 and n."
   ]
  },
  {
   "cell_type": "code",
   "execution_count": null,
   "id": "2cd6d318",
   "metadata": {},
   "outputs": [],
   "source": [
    "class iterator(object):\n",
    "\t\"\"\"docstring for iterator\"\"\"\n",
    "\tdef __init__(self, n):\n",
    "\t\tsuper(iterator, self).__init__()\n",
    "\t\tself.n = n\n",
    "\t\t\n",
    "\tdef divBySeven(self):\n",
    "\t\tfor i in range(0, self.n):\n",
    "\t\t\tif i % 7 == 0:\n",
    "\t\t\t\tyield i\n",
    "\n",
    "for num in iterator(100).divBySeven():\n",
    "\tprint (num)"
   ]
  },
  {
   "cell_type": "markdown",
   "id": "791bef7e",
   "metadata": {},
   "source": [
    "# 2. Write a program to compute the frequency of the words from the input. The output should output after sorting the key alphanumerically."
   ]
  },
  {
   "cell_type": "code",
   "execution_count": null,
   "id": "7f9e24c0",
   "metadata": {},
   "outputs": [],
   "source": [
    "def frequency(input):\n",
    "    freq = {}\n",
    "\n",
    "    for word in input.split():\n",
    "        freq[word] = freq.get(word, 0) + 1\n",
    "\n",
    "    words = list(freq.keys())\n",
    "    words.sort()\n",
    "\n",
    "    for w in words:\n",
    "        print(f'{w}:{freq[w]}')\n",
    "        \n",
    "frequency('This is checking string to checking the output.This is output.')"
   ]
  },
  {
   "cell_type": "markdown",
   "id": "4ebf3016",
   "metadata": {},
   "source": [
    "# 3. Define a class Person and its two child classes: Male and Female. All classes have a method \\\"getGender\\\" which can print \\\"Male\\\" for Male class and \\\"Female\\\" for Female class.\""
   ]
  },
  {
   "cell_type": "code",
   "execution_count": null,
   "id": "81e00ce6",
   "metadata": {},
   "outputs": [],
   "source": [
    "class Person(object):\n",
    "    def __init__(self):\n",
    "        self.gender = \"unknown\"\n",
    "\n",
    "    def getGender(self):\n",
    "        print(self.gender)\n",
    "\n",
    "class Male(Person):\n",
    "    def __init__(self):\n",
    "        self.gender = \"Male\"\n",
    "\n",
    "class Female(Person):\n",
    "    def __init__(self):\n",
    "        self.gender = \"Female\"\n",
    "\n",
    "sharon = Female()\n",
    "doug = Male()\n",
    "sharon.getGender()\n",
    "doug.getGender()"
   ]
  },
  {
   "cell_type": "markdown",
   "id": "f0bdebdb",
   "metadata": {},
   "source": [
    "# 4. Please write a program to generate all sentences where subject is in [\\\"I\\\", \\\"You\\\"] and verb is in ['Play', \\\"Love\\\"] and the object is in [\\\"Hockey\\\",\\\"Football\\\"]"
   ]
  },
  {
   "cell_type": "code",
   "execution_count": null,
   "id": "f7484bf9",
   "metadata": {},
   "outputs": [],
   "source": [
    "import itertools\n",
    "subject = [\"I\", \"You\"]\n",
    "verb = [\"Play\", \"Love\"]\n",
    "objects = [\"Hockey\",\"Football\"]\n",
    "\n",
    "sentence = [subject, verb, objects]\n",
    "n = list(itertools.product(*sentence))\n",
    "for i in n: \n",
    "    print(i)"
   ]
  },
  {
   "cell_type": "markdown",
   "id": "18cf4ec7",
   "metadata": {},
   "source": [
    "# 5. Please write a program to compress and decompress the string \\\"hello world!hello world!hello world!hello world!\\"
   ]
  },
  {
   "cell_type": "code",
   "execution_count": null,
   "id": "fc28063b",
   "metadata": {},
   "outputs": [],
   "source": [
    "import zlib\n",
    "s = 'hello world!hello world!hello world!hello world!'\n",
    "# In Python 3 zlib.compress() accepts only DataType <bytes>\n",
    "y = bytes(s, 'utf-8')\n",
    "x = zlib.compress(y)\n",
    "print(x)\n",
    "print(zlib.decompress(x))"
   ]
  },
  {
   "cell_type": "markdown",
   "id": "a39a1e22",
   "metadata": {},
   "source": [
    "# 6. Please write a binary search function which searches an item in a sorted list. The function should return the index of element to be searched in the list."
   ]
  },
  {
   "cell_type": "code",
   "execution_count": null,
   "id": "ff1175e3",
   "metadata": {},
   "outputs": [],
   "source": [
    "import math\n",
    "def bin_search(li, element):\n",
    "    bottom = 0\n",
    "    top = len(li)-1\n",
    "    index = -1\n",
    "    while top>=bottom and index==-1:\n",
    "        mid = int(math.floor((top+bottom)/2.0))\n",
    "        if li[mid]==element:\n",
    "            index = mid\n",
    "        elif li[mid]>element:\n",
    "            top = mid-1\n",
    "        else:\n",
    "            bottom = mid+1\n",
    "\n",
    "    return index\n",
    "\n",
    "li=[2,5,7,9,11,17,222]\n",
    "print(bin_search(li,11))\n",
    "print (bin_search(li,12))"
   ]
  },
  {
   "cell_type": "code",
   "execution_count": null,
   "id": "b7863820",
   "metadata": {},
   "outputs": [],
   "source": []
  },
  {
   "cell_type": "code",
   "execution_count": null,
   "id": "0b12ae0d",
   "metadata": {},
   "outputs": [],
   "source": []
  }
 ],
 "metadata": {
  "kernelspec": {
   "display_name": "Python 3 (ipykernel)",
   "language": "python",
   "name": "python3"
  },
  "language_info": {
   "codemirror_mode": {
    "name": "ipython",
    "version": 3
   },
   "file_extension": ".py",
   "mimetype": "text/x-python",
   "name": "python",
   "nbconvert_exporter": "python",
   "pygments_lexer": "ipython3",
   "version": "3.10.9"
  }
 },
 "nbformat": 4,
 "nbformat_minor": 5
}
