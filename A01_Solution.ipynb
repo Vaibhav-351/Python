{
 "cells": [
  {
   "cell_type": "markdown",
   "id": "3014fc9a",
   "metadata": {},
   "source": [
    "# 1. Write a Python program to print \\\"Hello Python\\\"\n"
   ]
  },
  {
   "cell_type": "code",
   "execution_count": 4,
   "id": "7310b3b0",
   "metadata": {},
   "outputs": [
    {
     "name": "stdout",
     "output_type": "stream",
     "text": [
      "Hello Python\n"
     ]
    }
   ],
   "source": [
    "print(\"Hello Python\")"
   ]
  },
  {
   "cell_type": "markdown",
   "id": "2f1416e0",
   "metadata": {},
   "source": [
    "# 2. Write a Python program to do arithmetical operations addition and division.?"
   ]
  },
  {
   "cell_type": "code",
   "execution_count": 5,
   "id": "fe0518d7",
   "metadata": {},
   "outputs": [
    {
     "name": "stdout",
     "output_type": "stream",
     "text": [
      "Enter number 1: \n",
      "3\n",
      "Enter number 2: \n",
      "4\n",
      "Addition of 3 and 4 is : 7\n",
      "Division quotient of 3 and 4 is : 0.75\n",
      "Division remainder of 3 and 4 is : 3\n"
     ]
    }
   ],
   "source": [
    "num1 = int(input(\"Enter number 1: \\n\"))\n",
    "num2 = int(input(\"Enter number 2: \\n\"))\n",
    "\n",
    "addition = num1+num2\n",
    "print(\"Addition of\",num1,'and',num2,\"is :\",addition)\n",
    "\n",
    "division_quotint = num1/num2\n",
    "print(\"Division quotient of\",num1,'and',num2,\"is :\",division_quotint)\n",
    "\n",
    "division_remainder = num1%num2\n",
    "print(\"Division remainder of\",num1,'and',num2,\"is :\",division_remainder)"
   ]
  },
  {
   "cell_type": "markdown",
   "id": "a9abaff3",
   "metadata": {},
   "source": [
    "# 3. Write a Python program to find the area of a triangle?"
   ]
  },
  {
   "cell_type": "code",
   "execution_count": null,
   "id": "9083297d",
   "metadata": {},
   "outputs": [],
   "source": [
    "height = int(input(\"Enter height of triangle: \\n\"))\n",
    "base = int(input(\"Enter base of triangle: \\n\"))\n",
    "\n",
    "area_of_traingle = (0.5*height*base)\n",
    "print(\"Area of triangle is :\",area_of_traingle,\"meter square\")"
   ]
  },
  {
   "cell_type": "markdown",
   "id": "c41b8c28",
   "metadata": {},
   "source": [
    "# 4. Write a Python program to swap two variables?"
   ]
  },
  {
   "cell_type": "code",
   "execution_count": 6,
   "id": "83f94240",
   "metadata": {},
   "outputs": [
    {
     "name": "stdout",
     "output_type": "stream",
     "text": [
      "Enter number 1 : \n",
      "4\n",
      "Enter number 2 : \n",
      "5\n",
      "\n",
      "\n",
      "Before swapping\n",
      "First number is: 4\n",
      "Second number is: 5\n",
      "\n",
      "\n",
      "After swapping\n",
      "First number is: 5\n",
      "Second number is: 4\n"
     ]
    }
   ],
   "source": [
    "num1 = int(input(\"Enter number 1 : \\n\"))\n",
    "num2 = int(input(\"Enter number 2 : \\n\"))\n",
    "\n",
    "num3 = 0\n",
    "print(\"\\n\")\n",
    "print(\"Before swapping\")\n",
    "print(\"First number is:\",num1)\n",
    "print(\"Second number is:\",num2)\n",
    "\n",
    "num3 = num1\n",
    "num1 = num2\n",
    "num2 = num3\n",
    "\n",
    "print(\"\\n\")\n",
    "print(\"After swapping\")\n",
    "print(\"First number is:\",num1)\n",
    "print(\"Second number is:\",num2)"
   ]
  },
  {
   "cell_type": "markdown",
   "id": "76e9aebb",
   "metadata": {},
   "source": [
    "# 5. Write a Python program to generate a random number?"
   ]
  },
  {
   "cell_type": "code",
   "execution_count": 7,
   "id": "6e96aad4",
   "metadata": {},
   "outputs": [
    {
     "name": "stdout",
     "output_type": "stream",
     "text": [
      "Random Number = 0.9751216959984489\n"
     ]
    }
   ],
   "source": [
    "import random\n",
    "\n",
    "randnum = random.random()\n",
    "print(\"Random Number =\", randnum)"
   ]
  },
  {
   "cell_type": "code",
   "execution_count": null,
   "id": "681acb8c",
   "metadata": {},
   "outputs": [],
   "source": []
  }
 ],
 "metadata": {
  "kernelspec": {
   "display_name": "Python 3 (ipykernel)",
   "language": "python",
   "name": "python3"
  },
  "language_info": {
   "codemirror_mode": {
    "name": "ipython",
    "version": 3
   },
   "file_extension": ".py",
   "mimetype": "text/x-python",
   "name": "python",
   "nbconvert_exporter": "python",
   "pygments_lexer": "ipython3",
   "version": "3.10.9"
  }
 },
 "nbformat": 4,
 "nbformat_minor": 5
}
