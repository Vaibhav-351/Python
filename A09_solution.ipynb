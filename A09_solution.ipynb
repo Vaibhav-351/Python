{
 "cells": [
  {
   "cell_type": "markdown",
   "id": "d2823ee4",
   "metadata": {},
   "source": [
    "# 1. Write a Python program to check if the given number is a Disarium Number?"
   ]
  },
  {
   "cell_type": "code",
   "execution_count": 1,
   "id": "dc72b82d",
   "metadata": {},
   "outputs": [
    {
     "name": "stdout",
     "output_type": "stream",
     "text": [
      "Enter a number to check if it id disarium number:45\n",
      "\n",
      "Is 45 is Disarium number? False\n"
     ]
    }
   ],
   "source": [
    "def is_disarium(num):\n",
    "    temp = 0\n",
    "    for i in range(len(str(num))):\n",
    "        temp += int(str(num)[i]) ** (i + 1)\n",
    "    return temp == num\n",
    "\n",
    "num = int(input(\"Enter a number to check if it id disarium number:\"))\n",
    "print(\"\\nIs\",num,\"is Disarium number?\",is_disarium(num))"
   ]
  },
  {
   "cell_type": "markdown",
   "id": "92c1fb4e",
   "metadata": {},
   "source": [
    "# 2. Write a Python program to print all disarium numbers between 1 to 100?"
   ]
  },
  {
   "cell_type": "code",
   "execution_count": 2,
   "id": "badf03ac",
   "metadata": {},
   "outputs": [
    {
     "name": "stdout",
     "output_type": "stream",
     "text": [
      "Disarium numbers between 1 and 100 are\n",
      "1\n",
      "2\n",
      "3\n",
      "4\n",
      "5\n",
      "6\n",
      "7\n",
      "8\n",
      "9\n",
      "89\n"
     ]
    }
   ],
   "source": [
    "#calculateLength() will count the digits present in a number  \n",
    "def calculateLength(n):  \n",
    "    length = 0;  \n",
    "    while(n != 0):  \n",
    "        length = length + 1;  \n",
    "        n = n//10;  \n",
    "    return length;  \n",
    "   \n",
    "#sumOfDigits() will calculates the sum of digits powered with their respective position  \n",
    "def sumOfDigits(num):  \n",
    "    rem = sum = 0;  \n",
    "    len = calculateLength(num);  \n",
    "      \n",
    "    while(num > 0):  \n",
    "        rem = num%10;  \n",
    "        sum = sum + (rem**len);  \n",
    "        num = num//10;  \n",
    "        len = len - 1;  \n",
    "    return sum;  \n",
    "    \n",
    "result = 0;  \n",
    "   \n",
    "#Displays all disarium numbers between 1 and 100  \n",
    "print(\"Disarium numbers between 1 and 100 are\");  \n",
    "for i in range(1, 101):  \n",
    "    result = sumOfDigits(i);  \n",
    "      \n",
    "    if(result == i):  \n",
    "        print(i)  "
   ]
  },
  {
   "cell_type": "markdown",
   "id": "4ba38433",
   "metadata": {},
   "source": [
    "# 3. Write a Python program to check if the given number is Happy Number?"
   ]
  },
  {
   "cell_type": "code",
   "execution_count": 3,
   "id": "fef6f090",
   "metadata": {},
   "outputs": [
    {
     "name": "stdout",
     "output_type": "stream",
     "text": [
      "45\n",
      "not a happy number\n"
     ]
    }
   ],
   "source": [
    "def isHappy(n):    \n",
    "    r = s = 0;    \n",
    "    while(n > 0):    \n",
    "        r = n%10    \n",
    "        s += r**2  \n",
    "        n //= 10    \n",
    "    return s  \n",
    "        \n",
    "n = int(input())    \n",
    "res = n;    \n",
    "     \n",
    "while(res != 1 and res != 4):    \n",
    "    res = isHappy(res)    \n",
    "     \n",
    "if(res == 1):    \n",
    "    print(\"happy number\")\n",
    "elif(res == 4):    \n",
    "    print(\"not a happy number\")  "
   ]
  },
  {
   "cell_type": "markdown",
   "id": "0894b239",
   "metadata": {},
   "source": [
    "# 4. Write a Python program to print all happy numbers between 1 and 100?"
   ]
  },
  {
   "cell_type": "code",
   "execution_count": 4,
   "id": "7e78eea4",
   "metadata": {},
   "outputs": [
    {
     "name": "stdout",
     "output_type": "stream",
     "text": [
      "The list of happy numbers between 1 and 100 are : \n",
      "1\n",
      "7\n",
      "10\n",
      "13\n",
      "19\n",
      "23\n",
      "28\n",
      "31\n",
      "32\n",
      "44\n",
      "49\n",
      "68\n",
      "70\n",
      "79\n",
      "82\n",
      "86\n",
      "91\n",
      "94\n",
      "97\n",
      "100\n"
     ]
    }
   ],
   "source": [
    "def check_happy_num(my_num):\n",
    "   remaining = sum_val = 0\n",
    "   while(my_num > 0):\n",
    "      remaining = my_num%10\n",
    "      sum_val = sum_val + (remaining*remaining)\n",
    "      my_num = my_num//10\n",
    "   return sum_val\n",
    "print(\"The list of happy numbers between 1 and 100 are : \")\n",
    "for i in range(1, 101):\n",
    "   my_result = i\n",
    "   while(my_result != 1 and my_result != 4):\n",
    "      my_result = check_happy_num(my_result)\n",
    "   if(my_result == 1):\n",
    "      print(i)"
   ]
  },
  {
   "cell_type": "markdown",
   "id": "7a52f8bb",
   "metadata": {},
   "source": [
    "# 5. Write a Python program to determine whether the given number is a Harshad Number?"
   ]
  },
  {
   "cell_type": "code",
   "execution_count": null,
   "id": "a0dab257",
   "metadata": {},
   "outputs": [],
   "source": [
    "number = int(input('Enter number: '))\n",
    "\n",
    "# Making copy of number for later use\n",
    "copy = number\n",
    "\n",
    "# Finding sum of digit\n",
    "digit_sum = 0\n",
    "\n",
    "while number:\n",
    "    digit_sum += number%10\n",
    "    number //= 10\n",
    "\n",
    "# Checking divisibility & making decision\n",
    "if copy%digit_sum == 0:\n",
    "    print('%d is Harshad Number' % (copy))\n",
    "else:\n",
    "    print('%d is Not Harshad Number' % (copy))"
   ]
  },
  {
   "cell_type": "markdown",
   "id": "25a0de14",
   "metadata": {},
   "source": [
    "# 6. Write a Python program to print all pronic numbers between 1 and 100?"
   ]
  },
  {
   "cell_type": "code",
   "execution_count": null,
   "id": "487989cc",
   "metadata": {},
   "outputs": [],
   "source": [
    "n = int(input(\"Enter a number: \"))\n",
    "f = 0\n",
    "for i in range(n):\n",
    "    if i * (i + 1) == n:\n",
    "        f = 1\n",
    "        break\n",
    "\n",
    "if f==1:\n",
    "    print(\"Pronic number\")\n",
    "else:\n",
    "    print(\"Not a Pronic number\")"
   ]
  },
  {
   "cell_type": "code",
   "execution_count": null,
   "id": "cee1b2cc",
   "metadata": {},
   "outputs": [],
   "source": []
  },
  {
   "cell_type": "code",
   "execution_count": null,
   "id": "194f8c9f",
   "metadata": {},
   "outputs": [],
   "source": []
  },
  {
   "cell_type": "code",
   "execution_count": null,
   "id": "bd86c84d",
   "metadata": {},
   "outputs": [],
   "source": []
  },
  {
   "cell_type": "code",
   "execution_count": null,
   "id": "cc17209d",
   "metadata": {},
   "outputs": [],
   "source": []
  },
  {
   "cell_type": "code",
   "execution_count": null,
   "id": "e460f122",
   "metadata": {},
   "outputs": [],
   "source": []
  }
 ],
 "metadata": {
  "kernelspec": {
   "display_name": "Python 3 (ipykernel)",
   "language": "python",
   "name": "python3"
  },
  "language_info": {
   "codemirror_mode": {
    "name": "ipython",
    "version": 3
   },
   "file_extension": ".py",
   "mimetype": "text/x-python",
   "name": "python",
   "nbconvert_exporter": "python",
   "pygments_lexer": "ipython3",
   "version": "3.10.9"
  }
 },
 "nbformat": 4,
 "nbformat_minor": 5
}
