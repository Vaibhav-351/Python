{
 "cells": [
  {
   "cell_type": "markdown",
   "id": "7684a4ff",
   "metadata": {},
   "source": [
    "# 1. Write a Python Program to Check if a Number is Positive, Negative or Zero?"
   ]
  },
  {
   "cell_type": "code",
   "execution_count": 1,
   "id": "6919c3f9",
   "metadata": {},
   "outputs": [
    {
     "name": "stdout",
     "output_type": "stream",
     "text": [
      "Enter a number:4\n",
      "4 is positive number\n"
     ]
    }
   ],
   "source": [
    "number = int(input(\"Enter a number:\"))\n",
    "if(number > 0):\n",
    "    print(number, \"is positive number\")\n",
    "elif(number < 0):\n",
    "    print(number, \"is negative number\")\n",
    "else:\n",
    "    print(\"Given number is \",number)"
   ]
  },
  {
   "cell_type": "markdown",
   "id": "9cc07eee",
   "metadata": {},
   "source": [
    "# 2. Write a Python Program to Check if a Number is Odd or Even"
   ]
  },
  {
   "cell_type": "code",
   "execution_count": 2,
   "id": "2080f2bc",
   "metadata": {},
   "outputs": [
    {
     "name": "stdout",
     "output_type": "stream",
     "text": [
      "Enter a number:4\n",
      "4 is even number\n"
     ]
    }
   ],
   "source": [
    "number = int(input(\"Enter a number:\"))\n",
    "\n",
    "if(number == 1):\n",
    "    print(number,\"is odd number\")\n",
    "elif(number % 2 == 0):\n",
    "    print(number,\"is even number\")\n",
    "else:    \n",
    "    print(number,\"is odd number\") "
   ]
  },
  {
   "cell_type": "markdown",
   "id": "65e9e1e0",
   "metadata": {},
   "source": [
    "# 3. Write a Python Program to Check Leap Year?"
   ]
  },
  {
   "cell_type": "code",
   "execution_count": 3,
   "id": "0e31bd80",
   "metadata": {},
   "outputs": [
    {
     "name": "stdout",
     "output_type": "stream",
     "text": [
      "Enter the Year: \n",
      "5678\n",
      "\n",
      "It is not a Leap Year\n"
     ]
    }
   ],
   "source": [
    "print(\"Enter the Year: \")\n",
    "y = int(input())\n",
    "\n",
    "if y%4==0 and y%100!=0:\n",
    "    print(\"\\nIt is a Leap Year\")\n",
    "elif y%400==0:\n",
    "    print(\"\\nIt is a Leap Year\")\n",
    "else:\n",
    "    print(\"\\nIt is not a Leap Year\")"
   ]
  },
  {
   "cell_type": "markdown",
   "id": "19b284b6",
   "metadata": {},
   "source": [
    "# 4. Write a Python Program to Check Prime Number?"
   ]
  },
  {
   "cell_type": "code",
   "execution_count": 4,
   "id": "f28f3591",
   "metadata": {},
   "outputs": [
    {
     "name": "stdout",
     "output_type": "stream",
     "text": [
      "Enter a number:4\n",
      "4 is not prime number\n"
     ]
    }
   ],
   "source": [
    "number = int(input(\"Enter a number:\"))\n",
    "if(number == 1):\n",
    "    print(number,\"is not prime number\")\n",
    "elif(number > 1):    \n",
    "    for i in range(2, number):\n",
    "        if(number%i == 0):\n",
    "            print(number,\"is not prime number\")\n",
    "            break\n",
    "    else:\n",
    "        print(number,\"is prime number\")"
   ]
  },
  {
   "cell_type": "markdown",
   "id": "e15e98a7",
   "metadata": {},
   "source": [
    "# 5. Write a Python Program to Print all Prime Numbers in an Interval of 1-10000?"
   ]
  },
  {
   "cell_type": "code",
   "execution_count": 5,
   "id": "ffa24091",
   "metadata": {},
   "outputs": [
    {
     "name": "stdout",
     "output_type": "stream",
     "text": [
      "Enter a min number:56\n",
      "Enter a max number:567\n",
      "59\n",
      "61\n",
      "67\n",
      "71\n",
      "73\n",
      "79\n",
      "83\n",
      "89\n",
      "97\n",
      "101\n",
      "103\n",
      "107\n",
      "109\n",
      "113\n",
      "127\n",
      "131\n",
      "137\n",
      "139\n",
      "149\n",
      "151\n",
      "157\n",
      "163\n",
      "167\n",
      "173\n",
      "179\n",
      "181\n",
      "191\n",
      "193\n",
      "197\n",
      "199\n",
      "211\n",
      "223\n",
      "227\n",
      "229\n",
      "233\n",
      "239\n",
      "241\n",
      "251\n",
      "257\n",
      "263\n",
      "269\n",
      "271\n",
      "277\n",
      "281\n",
      "283\n",
      "293\n",
      "307\n",
      "311\n",
      "313\n",
      "317\n",
      "331\n",
      "337\n",
      "347\n",
      "349\n",
      "353\n",
      "359\n",
      "367\n",
      "373\n",
      "379\n",
      "383\n",
      "389\n",
      "397\n",
      "401\n",
      "409\n",
      "419\n",
      "421\n",
      "431\n",
      "433\n",
      "439\n",
      "443\n",
      "449\n",
      "457\n",
      "461\n",
      "463\n",
      "467\n",
      "479\n",
      "487\n",
      "491\n",
      "499\n",
      "503\n",
      "509\n",
      "521\n",
      "523\n",
      "541\n",
      "547\n",
      "557\n",
      "563\n"
     ]
    }
   ],
   "source": [
    "lower = int(input(\"Enter a min number:\"))\n",
    "upper = int(input(\"Enter a max number:\"))\n",
    "\n",
    "for num in range(lower,upper+1):\n",
    "    if(num > 1):\n",
    "        for j in range(2,num):\n",
    "            if(num%j == 0):\n",
    "                break\n",
    "        else:\n",
    "            print(num)"
   ]
  },
  {
   "cell_type": "code",
   "execution_count": null,
   "id": "08efc7aa",
   "metadata": {},
   "outputs": [],
   "source": []
  }
 ],
 "metadata": {
  "kernelspec": {
   "display_name": "Python 3 (ipykernel)",
   "language": "python",
   "name": "python3"
  },
  "language_info": {
   "codemirror_mode": {
    "name": "ipython",
    "version": 3
   },
   "file_extension": ".py",
   "mimetype": "text/x-python",
   "name": "python",
   "nbconvert_exporter": "python",
   "pygments_lexer": "ipython3",
   "version": "3.10.9"
  }
 },
 "nbformat": 4,
 "nbformat_minor": 5
}
