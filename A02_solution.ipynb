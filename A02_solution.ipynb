{
 "cells": [
  {
   "cell_type": "markdown",
   "id": "f6314a36",
   "metadata": {},
   "source": [
    "# 1. Write a Python program to convert kilometers to miles"
   ]
  },
  {
   "cell_type": "code",
   "execution_count": 1,
   "id": "933074cf",
   "metadata": {},
   "outputs": [
    {
     "name": "stdout",
     "output_type": "stream",
     "text": [
      "Enter value in kilometer:\n",
      "56\n",
      "56 KM =  34.79678664 MILES\n"
     ]
    }
   ],
   "source": [
    "Kilometre = int(input(\"Enter value in kilometer:\\n\"))\n",
    "miles = Kilometre*0.62137119\n",
    "\n",
    "print(Kilometre,\"KM = \",miles,\"MILES\")"
   ]
  },
  {
   "cell_type": "markdown",
   "id": "7fe0a531",
   "metadata": {},
   "source": [
    "# 2.Write a Python program to convert Celsius to Fahrenheit"
   ]
  },
  {
   "cell_type": "code",
   "execution_count": 2,
   "id": "896b1a28",
   "metadata": {},
   "outputs": [
    {
     "name": "stdout",
     "output_type": "stream",
     "text": [
      "Enter temperature in degree celcius:\n",
      "45\n",
      "45 degree celcius =  113.0 Farenheight\n"
     ]
    }
   ],
   "source": [
    "temp_in_celcius = int(input(\"Enter temperature in degree celcius:\\n\"))\n",
    "Farenheight = (temp_in_celcius*1.8)+32\n",
    "\n",
    "print(temp_in_celcius,\"degree celcius = \",Farenheight,\"Farenheight\")"
   ]
  },
  {
   "cell_type": "markdown",
   "id": "1006b6a5",
   "metadata": {},
   "source": [
    "# 3.Write a Python program to display calendar"
   ]
  },
  {
   "cell_type": "code",
   "execution_count": 3,
   "id": "b2a14d7b",
   "metadata": {},
   "outputs": [
    {
     "name": "stdout",
     "output_type": "stream",
     "text": [
      "   November 2014\n",
      "Mo Tu We Th Fr Sa Su\n",
      "                1  2\n",
      " 3  4  5  6  7  8  9\n",
      "10 11 12 13 14 15 16\n",
      "17 18 19 20 21 22 23\n",
      "24 25 26 27 28 29 30\n",
      "\n"
     ]
    }
   ],
   "source": [
    "# Program to display calendar of the given month and year\n",
    "\n",
    "# importing calendar module\n",
    "import calendar\n",
    "\n",
    "yy = 2014  # year\n",
    "mm = 11    # month\n",
    "\n",
    "# To take month and year input from the user\n",
    "# yy = int(input(\"Enter year: \"))\n",
    "# mm = int(input(\"Enter month: \"))\n",
    "\n",
    "# display the calendar\n",
    "print(calendar.month(yy, mm))"
   ]
  },
  {
   "cell_type": "markdown",
   "id": "58420d17",
   "metadata": {},
   "source": [
    "# 4. Write a Python program to solve quadratic equation"
   ]
  },
  {
   "cell_type": "code",
   "execution_count": 4,
   "id": "e31e8906",
   "metadata": {},
   "outputs": [
    {
     "name": "stdout",
     "output_type": "stream",
     "text": [
      "Enter the Value of a: 4\n",
      "Enter the Value of b: 5\n",
      "Enter the Value of c: 5\n",
      "\n",
      "Root 1 = (-0.625-0.9270248108869579j)\n",
      "Root 2 = (-0.625+0.9270248108869579j)\n"
     ]
    }
   ],
   "source": [
    "import cmath\n",
    "\n",
    "print(\"Enter the Value of a: \", end=\"\")\n",
    "a = int(input())\n",
    "print(\"Enter the Value of b: \", end=\"\")\n",
    "b = int(input())\n",
    "print(\"Enter the Value of c: \", end=\"\")\n",
    "c = int(input())\n",
    "\n",
    "discriminant = (b**2) - (4*a*c)\n",
    "solutionOne = (-b-cmath.sqrt(discriminant))/(2*a)\n",
    "solutionTwo = (-b+cmath.sqrt(discriminant))/(2*a)\n",
    "\n",
    "print(\"\\nRoot 1 =\", solutionOne)\n",
    "print(\"Root 2 =\", solutionTwo)"
   ]
  },
  {
   "cell_type": "markdown",
   "id": "b4f4c7b1",
   "metadata": {},
   "source": [
    "# 5. Write a Python program to swap two variables without temp"
   ]
  },
  {
   "cell_type": "code",
   "execution_count": 5,
   "id": "3d3bf899",
   "metadata": {},
   "outputs": [
    {
     "name": "stdout",
     "output_type": "stream",
     "text": [
      "Enter X:5\n",
      "Enter Y:6\n",
      "Before swapping\n",
      "X is 5\n",
      "Y is 6\n",
      "************\n",
      "After swapping\n",
      "X is 6\n",
      "Y is 5\n"
     ]
    }
   ],
   "source": [
    "X = int(input(\"Enter X:\"))\n",
    "Y = int(input(\"Enter Y:\"))\n",
    "\n",
    "print(\"Before swapping\")\n",
    "print(\"X is\",X)\n",
    "print(\"Y is\",Y)\n",
    "\n",
    "print(\"************\")\n",
    "\n",
    "X = X+Y\n",
    "Y = X-Y\n",
    "X = X-Y\n",
    "\n",
    "print(\"After swapping\")\n",
    "print(\"X is\",X)\n",
    "print(\"Y is\",Y)"
   ]
  },
  {
   "cell_type": "code",
   "execution_count": null,
   "id": "969d07d8",
   "metadata": {},
   "outputs": [],
   "source": []
  },
  {
   "cell_type": "code",
   "execution_count": null,
   "id": "76cdcd3e",
   "metadata": {},
   "outputs": [],
   "source": []
  },
  {
   "cell_type": "code",
   "execution_count": null,
   "id": "949756bb",
   "metadata": {},
   "outputs": [],
   "source": []
  }
 ],
 "metadata": {
  "kernelspec": {
   "display_name": "Python 3 (ipykernel)",
   "language": "python",
   "name": "python3"
  },
  "language_info": {
   "codemirror_mode": {
    "name": "ipython",
    "version": 3
   },
   "file_extension": ".py",
   "mimetype": "text/x-python",
   "name": "python",
   "nbconvert_exporter": "python",
   "pygments_lexer": "ipython3",
   "version": "3.10.9"
  }
 },
 "nbformat": 4,
 "nbformat_minor": 5
}
