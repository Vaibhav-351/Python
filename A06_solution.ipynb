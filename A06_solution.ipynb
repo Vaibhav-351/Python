{
 "cells": [
  {
   "cell_type": "markdown",
   "id": "bf5c9eb2",
   "metadata": {},
   "source": [
    "# 1. Write a Python Program to Display Fibonacci Sequence Using Recursion?"
   ]
  },
  {
   "cell_type": "code",
   "execution_count": 1,
   "id": "308a0c83",
   "metadata": {},
   "outputs": [
    {
     "name": "stdout",
     "output_type": "stream",
     "text": [
      "Enter the terms? 4\n",
      "Fibonacci sequence:\n",
      "0\n",
      "1\n",
      "1\n",
      "2\n"
     ]
    }
   ],
   "source": [
    "def FibRec(a):  \n",
    "\n",
    "   if a <= 1:  \n",
    "\n",
    "       return a  \n",
    "\n",
    "   else:  \n",
    "\n",
    "       return(FibRec(a-1) + FibRec(a-2))  \n",
    "\n",
    "aterms = int(input(\"Enter the terms? \")) \n",
    "\n",
    "  \n",
    "if aterms <= 0:  \n",
    "\n",
    "   print(\"Please enter a positive integer\")  \n",
    "\n",
    "else:  \n",
    "\n",
    "   print(\"Fibonacci sequence:\")  \n",
    "\n",
    "   for z in range(aterms):  \n",
    "\n",
    "       print(FibRec(z))"
   ]
  },
  {
   "cell_type": "markdown",
   "id": "00f334bc",
   "metadata": {},
   "source": [
    "# 2. Write a Python Program to Find Factorial of Number Using Recursion?"
   ]
  },
  {
   "cell_type": "code",
   "execution_count": null,
   "id": "48aac82d",
   "metadata": {},
   "outputs": [],
   "source": [
    "def recursive_factorial(n):\n",
    "  if n == 1:\n",
    "     return n\n",
    "  else:\n",
    "     return n*recursive_factorial(n-1)     #function calling itself\n",
    "\n",
    "#taking input from the user\n",
    "number = int(input(\"User Input : \"))\n",
    "print(\"The factorial of\", number, \"is\", recursive_factorial(number))"
   ]
  },
  {
   "cell_type": "markdown",
   "id": "23f85737",
   "metadata": {},
   "source": [
    "# 3. Write a Python Program to calculate your Body Mass Index?"
   ]
  },
  {
   "cell_type": "code",
   "execution_count": null,
   "id": "2178161b",
   "metadata": {},
   "outputs": [],
   "source": [
    "height = float(input(\"Input your height in Feet: \"))\n",
    "weight = float(input(\"Input your weight in Kilogram: \"))\n",
    "print(\"Your body mass index is: \", round(weight / (height * height), 2))"
   ]
  },
  {
   "cell_type": "markdown",
   "id": "07bea90d",
   "metadata": {},
   "source": [
    "# 4. Write a Python Program to calculate the natural logarithm of any number?"
   ]
  },
  {
   "cell_type": "code",
   "execution_count": null,
   "id": "6e1967ab",
   "metadata": {},
   "outputs": [],
   "source": [
    "import math\n",
    "\n",
    "num = int(input(\"Enter a number to find out logarithm:\"))\n",
    "\n",
    "print(math.log(num))"
   ]
  },
  {
   "cell_type": "markdown",
   "id": "cc4042fd",
   "metadata": {},
   "source": [
    "# 5. Write a Python Program for cube sum of first n natural numbers?"
   ]
  },
  {
   "cell_type": "code",
   "execution_count": null,
   "id": "30665e71",
   "metadata": {},
   "outputs": [],
   "source": [
    "# to print cube sum of first n natural numbers \n",
    "# using inbuilt function pow()\n",
    "  \n",
    "n=int(input(\"Enter upto what number you want find sum of cube of natural numbers:\"))\n",
    "\n",
    "s=0\n",
    "# iterating loop up to given number n\n",
    "for i in range(1,n+1):\n",
    "    # adding cube sum using pow() function\n",
    "    s=s+pow(i,3)\n",
    "print(s)  "
   ]
  },
  {
   "cell_type": "code",
   "execution_count": null,
   "id": "0fdf488c",
   "metadata": {},
   "outputs": [],
   "source": []
  },
  {
   "cell_type": "code",
   "execution_count": null,
   "id": "986630bb",
   "metadata": {},
   "outputs": [],
   "source": []
  },
  {
   "cell_type": "code",
   "execution_count": null,
   "id": "0ce90d67",
   "metadata": {},
   "outputs": [],
   "source": []
  }
 ],
 "metadata": {
  "kernelspec": {
   "display_name": "Python 3 (ipykernel)",
   "language": "python",
   "name": "python3"
  },
  "language_info": {
   "codemirror_mode": {
    "name": "ipython",
    "version": 3
   },
   "file_extension": ".py",
   "mimetype": "text/x-python",
   "name": "python",
   "nbconvert_exporter": "python",
   "pygments_lexer": "ipython3",
   "version": "3.10.9"
  }
 },
 "nbformat": 4,
 "nbformat_minor": 5
}
