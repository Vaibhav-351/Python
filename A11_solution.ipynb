{
 "cells": [
  {
   "cell_type": "markdown",
   "id": "47da07eb",
   "metadata": {},
   "source": [
    "# 1. Write a Python program to find words which are greater than given length k?"
   ]
  },
  {
   "cell_type": "code",
   "execution_count": null,
   "id": "7140f001",
   "metadata": {},
   "outputs": [],
   "source": [
    "# function find string greater than length k\n",
    "\n",
    "def string_k(k, str):\n",
    "\n",
    "\t# create the empty string\n",
    "\tstring = []\n",
    "\n",
    "\t# split the string where space is comes\n",
    "\ttext = str.split(\" \")\n",
    "\n",
    "\t# iterate the loop till every substring\n",
    "\tfor x in text:\n",
    "\n",
    "\t\t# if length of current sub string\n",
    "\t\t# is greater than k then\n",
    "\t\tif len(x) > k:\n",
    "\n",
    "\t\t\t# append this sub string in\n",
    "\t\t\t# string list\n",
    "\t\t\tstring.append(x)\n",
    "\n",
    "\t# return string list\n",
    "\treturn string\n",
    "\n",
    "\n",
    "#main programm\n",
    "\n",
    "str = input(\"Enter a string: \\n\")\n",
    "k = int(input(\"Enter length: \\n\"))\n",
    "print(string_k(k, str))"
   ]
  },
  {
   "cell_type": "markdown",
   "id": "54d46a75",
   "metadata": {},
   "source": [
    "# 2. Write a Python program for removing i-th character from a string?"
   ]
  },
  {
   "cell_type": "code",
   "execution_count": null,
   "id": "a5158858",
   "metadata": {},
   "outputs": [],
   "source": [
    "def remove_char(s, i):\n",
    "    a = s[ : i]\n",
    "    b = s[i + 1: ]\n",
    "\n",
    "    return a+b\n",
    "\n",
    "string = \"Pythonisgood\"\n",
    "# Remove ith index element\n",
    "i = 5\n",
    "print(remove_char(string,i-1))"
   ]
  },
  {
   "cell_type": "markdown",
   "id": "fca59166",
   "metadata": {},
   "source": [
    "# 3. Write a Python program to split and join a string?"
   ]
  },
  {
   "cell_type": "code",
   "execution_count": null,
   "id": "9ea0d4f7",
   "metadata": {},
   "outputs": [],
   "source": [
    "def split_string(string):\n",
    "    # Splitting based on space delimiter\n",
    "    list_string = string.split(' ')\n",
    "    return list_string\n",
    "\n",
    "def join_string(list_string):\n",
    "    # Joining based on '_' delimiter\n",
    "    string = '_'.join(list_string)\n",
    "    return string\n",
    "\n",
    "string = input(\"Enter a string : \\n\")\n",
    "# Splitting a string\n",
    "list_string = split_string(string)\n",
    "print(\"After Splitting: \",list_string)\n",
    "\n",
    "# Join list of strings into one\n",
    "res_string = join_string(list_string)\n",
    "print(\"After joining: \",res_string)"
   ]
  },
  {
   "cell_type": "markdown",
   "id": "2ce3aa99",
   "metadata": {},
   "source": [
    "# 4. Write a Python to check if a given string is binary string or not?"
   ]
  },
  {
   "cell_type": "code",
   "execution_count": null,
   "id": "09529454",
   "metadata": {},
   "outputs": [],
   "source": [
    "def check(string) :\n",
    "    b = set(string)\n",
    "    s = {'0', '1'}\n",
    "    if s == b or b == {'0'} or b == {'1'}:\n",
    "        print(\"Binary String\")\n",
    "    else :\n",
    "        print(\"Non Binary String\")\n",
    "  \n",
    "s1= input(\"Enter a string: \\n\")\n",
    "# function calling\n",
    "check(s1)"
   ]
  },
  {
   "cell_type": "markdown",
   "id": "39909af6",
   "metadata": {},
   "source": [
    "# 5. Write a Python program to find uncommon words from two Strings?"
   ]
  },
  {
   "cell_type": "code",
   "execution_count": null,
   "id": "4b841715",
   "metadata": {},
   "outputs": [],
   "source": [
    "#list of uncommon words\n",
    "\n",
    "def uncommon(s1,s2):\n",
    "    list_s1 = s1.split()\n",
    "    list_s2 = s2.split()\n",
    "    uc_words = \"\"\n",
    "    for i in list_s1:\n",
    "        if i not in list_s2:\n",
    "            uc_words =  uc_words+\" \"+i\n",
    "    for j in list_s2:\n",
    "        if j not in list_s1:\n",
    "             uc_words =  uc_words+\" \"+j\n",
    "  \n",
    "    return  uc_words\n",
    "  \n",
    "\n",
    "a = \"Apple Orange Guava\"\n",
    "b = \"Guava Apple cherry\"\n",
    "print(uncommon(a,b))"
   ]
  },
  {
   "cell_type": "markdown",
   "id": "5164dc69",
   "metadata": {},
   "source": [
    "# 6. Write a Python to find all duplicate characters in string?"
   ]
  },
  {
   "cell_type": "code",
   "execution_count": null,
   "id": "284bfe08",
   "metadata": {},
   "outputs": [],
   "source": [
    "def duplicate_characters(string):\n",
    "\t# Create an empty dictionary\n",
    "\tchars = {}\n",
    "\n",
    "\t# Iterate through each character in the string\n",
    "\tfor char in string:\n",
    "\t\t# If the character is not in the dictionary, add it\n",
    "\t\tif char not in chars:\n",
    "\t\t\tchars[char] = 1\n",
    "\t\telse:\n",
    "\t\t\t# If the character is already in the dictionary, increment the count\n",
    "\t\t\tchars[char] += 1\n",
    "\n",
    "\t# Create a list to store the duplicate characters\n",
    "\tduplicates = []\n",
    "\n",
    "\t# Iterate through the dictionary to find characters with count greater than 1\n",
    "\tfor char, count in chars.items():\n",
    "\t\tif count > 1:\n",
    "\t\t\tduplicates.append(char)\n",
    "\n",
    "\treturn duplicates\n",
    "\n",
    "# Test cases\n",
    "string_to_check = input(\"Enter a string:\\n\")\n",
    "print(duplicate_characters(string_to_check))"
   ]
  },
  {
   "cell_type": "markdown",
   "id": "bdafdb6b",
   "metadata": {},
   "source": [
    "# 7. Write a Python Program to check if a string contains any special character?"
   ]
  },
  {
   "cell_type": "code",
   "execution_count": null,
   "id": "25991eda",
   "metadata": {},
   "outputs": [],
   "source": [
    "# Python program to check special character\n",
    "\n",
    "# import required package\n",
    "import re\n",
    "\n",
    "# take inputs\n",
    "string = input('Enter any string: ')\n",
    " \n",
    "# special characters\n",
    "special_char = re.compile('[@_!#$%^&*()<>?/\\|}{~:]')\n",
    "\n",
    "# check string contains special characters or not\n",
    "if(special_char.search(string) == None):\n",
    "    print('String does not contain any special characters.')\n",
    "else:\n",
    "    print('The string contains special characters.')"
   ]
  },
  {
   "cell_type": "code",
   "execution_count": null,
   "id": "0849afed",
   "metadata": {},
   "outputs": [],
   "source": []
  },
  {
   "cell_type": "code",
   "execution_count": null,
   "id": "eadaea5d",
   "metadata": {},
   "outputs": [],
   "source": []
  },
  {
   "cell_type": "code",
   "execution_count": null,
   "id": "cd8cc7ad",
   "metadata": {},
   "outputs": [],
   "source": []
  },
  {
   "cell_type": "code",
   "execution_count": null,
   "id": "156747d6",
   "metadata": {},
   "outputs": [],
   "source": []
  }
 ],
 "metadata": {
  "kernelspec": {
   "display_name": "Python 3 (ipykernel)",
   "language": "python",
   "name": "python3"
  },
  "language_info": {
   "codemirror_mode": {
    "name": "ipython",
    "version": 3
   },
   "file_extension": ".py",
   "mimetype": "text/x-python",
   "name": "python",
   "nbconvert_exporter": "python",
   "pygments_lexer": "ipython3",
   "version": "3.10.9"
  }
 },
 "nbformat": 4,
 "nbformat_minor": 5
}
