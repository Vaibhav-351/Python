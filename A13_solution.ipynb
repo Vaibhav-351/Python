{
 "cells": [
  {
   "cell_type": "markdown",
   "id": "1a2422c6",
   "metadata": {},
   "source": [
    "# 1. Write a program that calculates and prints the value according to the given formula:"
   ]
  },
  {
   "cell_type": "code",
   "execution_count": null,
   "id": "c495928e",
   "metadata": {},
   "outputs": [],
   "source": [
    "import math\n",
    "c=50\n",
    "h=30\n",
    "value = []\n",
    "items=[x for x in input().split(',')]\n",
    "for d in items:\n",
    "    value.append(str(int(round(math.sqrt(2*c*float(d)/h)))))\n",
    "\n",
    "print(','.join(value))"
   ]
  },
  {
   "cell_type": "markdown",
   "id": "3a53e7ab",
   "metadata": {},
   "source": [
    "# 2. Write a program which takes 2 digits, X,Y as input and generates a 2-dimensional array. The element value in the i-th row and j-th column of the array should be i*j"
   ]
  },
  {
   "cell_type": "code",
   "execution_count": null,
   "id": "69efd906",
   "metadata": {},
   "outputs": [],
   "source": [
    "X = int(input(\"Input number of rows: \"))\n",
    "Y = int(input(\"Input number of columns: \"))\n",
    "multi_list = [[0 for col in range(Y)] for row in range(X)]\n",
    "\n",
    "for row in range(X):\n",
    "    for col in range(Y):\n",
    "        multi_list[row][col]= row*col\n",
    "\n",
    "print(multi_list)"
   ]
  },
  {
   "cell_type": "markdown",
   "id": "baa70134",
   "metadata": {},
   "source": [
    "# 3. Write a program that accepts a comma separated sequence of words as input and prints the words in a comma-separated sequence after sorting them alphabetically."
   ]
  },
  {
   "cell_type": "code",
   "execution_count": null,
   "id": "40e7f72d",
   "metadata": {},
   "outputs": [],
   "source": [
    "phrase = input(\"Input words: \")\n",
    "\n",
    "phrase_list = phrase.split(\",\")\n",
    "phrase_list.sort()\n",
    "print((', ').join(phrase_list))"
   ]
  },
  {
   "cell_type": "markdown",
   "id": "9b0f3cec",
   "metadata": {},
   "source": [
    "# 4. Write a program that accepts a sequence of whitespace separated words as input and prints the words after removing all duplicate words and sorting them alphanumerically"
   ]
  },
  {
   "cell_type": "code",
   "execution_count": null,
   "id": "9b16ec17",
   "metadata": {},
   "outputs": [],
   "source": [
    "from collections import Counter\n",
    "\n",
    "def remov_duplicates(input):\n",
    "\n",
    "\t# split input string separated by space\n",
    "\tinput = input.split(\" \")\n",
    "\n",
    "\t# now create dictionary using counter method\n",
    "\t# which will have strings as key and their\n",
    "\t# frequencies as value\n",
    "\tUniqW = Counter(input)\n",
    "\n",
    "\t# joins two adjacent elements in iterable way\n",
    "\ts = \" \".join(UniqW.keys())\n",
    "\tprint (s)\n",
    "\n",
    "# Driver program\n",
    "if __name__ == \"__main__\":\n",
    "\tinput = 'This is a string to check is string to remove duplicate duplicate words'\n",
    "\tremov_duplicates(input)"
   ]
  },
  {
   "cell_type": "markdown",
   "id": "5c9226aa",
   "metadata": {},
   "source": [
    "# 5. Write a program that accepts a sentence and calculate the number of letters and digits."
   ]
  },
  {
   "cell_type": "code",
   "execution_count": null,
   "id": "b3a7b600",
   "metadata": {},
   "outputs": [],
   "source": [
    "s = input(\"Input a string:\\n\")\n",
    "d=l=0\n",
    "for c in s:\n",
    "    if c.isdigit():\n",
    "        d=d+1\n",
    "    elif c.isalpha():\n",
    "        l=l+1\n",
    "    else:\n",
    "        pass\n",
    "print(\"Letters\", l)\n",
    "print(\"Digits\", d)"
   ]
  },
  {
   "cell_type": "markdown",
   "id": "3ea8636e",
   "metadata": {},
   "source": [
    "# 6. A website requires the users to input username and password to register. Write a program to check the validity of password input by users."
   ]
  },
  {
   "cell_type": "code",
   "execution_count": null,
   "id": "2fb91b6c",
   "metadata": {},
   "outputs": [],
   "source": [
    "import re\n",
    "p= input(\"Input your password:\\n\")\n",
    "x = True\n",
    "while x:  \n",
    "    if (len(p)<6 or len(p)>18):\n",
    "        break\n",
    "    elif not re.search(\"[a-z]\",p):\n",
    "        break\n",
    "    elif not re.search(\"[0-9]\",p):\n",
    "        break\n",
    "    elif not re.search(\"[A-Z]\",p):\n",
    "        break\n",
    "    elif not re.search(\"[$#@]\",p):\n",
    "        break\n",
    "    elif re.search(\"\\s\",p):\n",
    "        break\n",
    "    else:\n",
    "        print(\"Valid Password\")\n",
    "        x=False\n",
    "        break\n",
    "\n",
    "if x:\n",
    "    print(\"Not a Valid Password\")"
   ]
  },
  {
   "cell_type": "code",
   "execution_count": null,
   "id": "e84e318d",
   "metadata": {},
   "outputs": [],
   "source": []
  },
  {
   "cell_type": "code",
   "execution_count": null,
   "id": "ad685438",
   "metadata": {},
   "outputs": [],
   "source": []
  }
 ],
 "metadata": {
  "kernelspec": {
   "display_name": "Python 3 (ipykernel)",
   "language": "python",
   "name": "python3"
  },
  "language_info": {
   "codemirror_mode": {
    "name": "ipython",
    "version": 3
   },
   "file_extension": ".py",
   "mimetype": "text/x-python",
   "name": "python",
   "nbconvert_exporter": "python",
   "pygments_lexer": "ipython3",
   "version": "3.10.9"
  }
 },
 "nbformat": 4,
 "nbformat_minor": 5
}
