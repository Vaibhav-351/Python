{
 "cells": [
  {
   "cell_type": "markdown",
   "id": "8936880b",
   "metadata": {},
   "source": [
    "# 1. Write a Python program to Extract Unique values dictionary values?"
   ]
  },
  {
   "cell_type": "code",
   "execution_count": null,
   "id": "913306ae",
   "metadata": {},
   "outputs": [],
   "source": [
    "dict1 = {'A' : [1, 3, 5, 4],\n",
    "             'B' : [4, 6, 8, 10],\n",
    "             'C' : [6, 12, 4 ,8],\n",
    "             'D' : [5, 7, 2]}\n",
    "\n",
    "print(\"The original dictionary is : \" ,dict1)\n",
    "  \n",
    "# Using list comprehension, values() and sorted()\n",
    "res = list(sorted({ele for val in dict1.values() for ele in val}))\n",
    "  \n",
    "# print result \n",
    "print(\"The unique values list is : \" , res)"
   ]
  },
  {
   "cell_type": "markdown",
   "id": "1210bf79",
   "metadata": {},
   "source": [
    "# 2. Write a Python program to find the sum of all items in a dictionary?"
   ]
  },
  {
   "cell_type": "code",
   "execution_count": null,
   "id": "69562134",
   "metadata": {},
   "outputs": [],
   "source": [
    "# sum of values in dictionary\n",
    "#initialisation\n",
    "dic={ 'x':45, 'y':23, 'z':30, 'p':98 }\n",
    "\n",
    "print(\"Dictionary: \", dic)\n",
    "\n",
    "#using sum() and values()\n",
    "print(\"sum: \",sum(dic.values()))"
   ]
  },
  {
   "cell_type": "markdown",
   "id": "d9a5672e",
   "metadata": {},
   "source": [
    "# 3. Write a Python program to Merging two Dictionaries?"
   ]
  },
  {
   "cell_type": "code",
   "execution_count": null,
   "id": "997ed112",
   "metadata": {},
   "outputs": [],
   "source": [
    "dic1= {'x': 2, 'y' : 8, 'C': 5 }\n",
    "dic2= {'B': 8, 'y': 4, 2: 11}\n",
    "\n",
    "dic1.update(dic2)\n",
    "\n",
    "print(\"MERGED: \")\n",
    "print(dic1)"
   ]
  },
  {
   "cell_type": "markdown",
   "id": "3554566c",
   "metadata": {},
   "source": [
    "# 4. Write a Python program to convert key-values list to flat dictionary?"
   ]
  },
  {
   "cell_type": "code",
   "execution_count": null,
   "id": "1e7d1990",
   "metadata": {},
   "outputs": [],
   "source": [
    "dic= { \"day\": [4, 44, 6], \"name\": ['Mon', 'Tues', 'Wed' ] }\n",
    "print(\"Original dictionary: \",dic)\n",
    "\n",
    "# convert to flat dictionary\n",
    "\n",
    "f_dic= dict(zip(dic[\"day\"], dic[\"name\"]))\n",
    "print(\"FLATTENED DICTIONARY: \", f_dic)"
   ]
  },
  {
   "cell_type": "markdown",
   "id": "12311e78",
   "metadata": {},
   "source": [
    "# 5. Write a Python program to insertion at the beginning in OrderedDict?"
   ]
  },
  {
   "cell_type": "code",
   "execution_count": null,
   "id": "fd5edd55",
   "metadata": {},
   "outputs": [],
   "source": [
    "from collections import OrderedDict\n",
    "dic1 = OrderedDict([('A', '100'), ('B', '200'), ('C', '300')])\n",
    "insrt = OrderedDict([(\"D\", '400')])\n",
    "  \n",
    "final = OrderedDict(list(insrt.items()) + list(dic1.items()))\n",
    "  \n",
    "# print result\n",
    "print (\"Resultant Dictionary :\")\n",
    "print(final)"
   ]
  },
  {
   "cell_type": "markdown",
   "id": "2755fe8d",
   "metadata": {},
   "source": [
    "# 6. Write a Python program to check order of character in string using OrderedDict()?"
   ]
  },
  {
   "cell_type": "code",
   "execution_count": null,
   "id": "02561fbc",
   "metadata": {},
   "outputs": [],
   "source": [
    "from collections import OrderedDict \n",
    "def checkOrder(string, pattern): \n",
    "    dic = OrderedDict.fromkeys(string) \n",
    "    ptr = 0\n",
    "    for key,value in dic.items(): \n",
    "        if (key == pattern[ptr]): \n",
    "            ptr = ptr + 1\n",
    "        if (ptr == (len(pattern))): \n",
    "            return 'True'\n",
    "    return 'False'\n",
    "\n",
    "string = 'This is string to check'\n",
    "pattern = 'is'\n",
    "print (checkOrder(string,pattern))"
   ]
  },
  {
   "cell_type": "markdown",
   "id": "067e4d6f",
   "metadata": {},
   "source": [
    "# 7. Write a Python program to sort Python Dictionaries by Key or Value?"
   ]
  },
  {
   "cell_type": "code",
   "execution_count": null,
   "id": "b1c87725",
   "metadata": {},
   "outputs": [],
   "source": [
    "key_value={}\n",
    "\n",
    "key_value[5] = 10      \n",
    "key_value[3] = 8\n",
    "key_value[6] = 77\n",
    "key_value[4] = 23\n",
    "key_value[2] = 9     \n",
    "key_value[1] = 43\n",
    " \n",
    "print(\"sorting on the basis of keys\")\n",
    "\n",
    "for i in sorted(key_value) :\n",
    "    print ((i, key_value[i]), end =\" \")"
   ]
  },
  {
   "cell_type": "code",
   "execution_count": null,
   "id": "aee49193",
   "metadata": {},
   "outputs": [],
   "source": []
  }
 ],
 "metadata": {
  "kernelspec": {
   "display_name": "Python 3 (ipykernel)",
   "language": "python",
   "name": "python3"
  },
  "language_info": {
   "codemirror_mode": {
    "name": "ipython",
    "version": 3
   },
   "file_extension": ".py",
   "mimetype": "text/x-python",
   "name": "python",
   "nbconvert_exporter": "python",
   "pygments_lexer": "ipython3",
   "version": "3.10.9"
  }
 },
 "nbformat": 4,
 "nbformat_minor": 5
}
