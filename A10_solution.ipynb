{
 "cells": [
  {
   "cell_type": "markdown",
   "id": "46f6afdb",
   "metadata": {},
   "source": [
    "# 1. Write a Python program to find sum of elements in list?"
   ]
  },
  {
   "cell_type": "code",
   "execution_count": null,
   "id": "ad76119b",
   "metadata": {},
   "outputs": [],
   "source": [
    "def sumlist(list):\n",
    "    sum=0\n",
    "    for i in range(len(list)):\n",
    "        sum = sum+list[i]\n",
    "    return sum\n",
    "\n",
    "#initialise list\n",
    "list = [10, 9, 7, 5]\n",
    "print(list)\n",
    "print(\"sum of list: \",sumlist(list))"
   ]
  },
  {
   "cell_type": "markdown",
   "id": "d394d02d",
   "metadata": {},
   "source": [
    "# 2. Write a Python program to  Multiply all numbers in the list?"
   ]
  },
  {
   "cell_type": "code",
   "execution_count": null,
   "id": "39dbb5c6",
   "metadata": {},
   "outputs": [],
   "source": [
    "def prolist(list):\n",
    "    pro=1\n",
    "    for i in range(len(list)):\n",
    "        pro = pro*list[i]\n",
    "    return pro\n",
    "\n",
    "#initialise list\n",
    "list = [10, 9, 7, 5]\n",
    "print(list)\n",
    "print(\"product of list: \",prolist(list))"
   ]
  },
  {
   "cell_type": "markdown",
   "id": "b35172ac",
   "metadata": {},
   "source": [
    "# 3. Write a Python program to find smallest number in a list?"
   ]
  },
  {
   "cell_type": "code",
   "execution_count": null,
   "id": "7a9f990f",
   "metadata": {},
   "outputs": [],
   "source": [
    "# list of numbers\n",
    "a = [55, 2, 2, 4, 32]\n",
    "\n",
    "# find smallest number using min() function\n",
    "smallest = min(a)\n",
    "\n",
    "# print the smallest number\n",
    "print(f'Smallest number in the list is : {smallest}.')"
   ]
  },
  {
   "cell_type": "markdown",
   "id": "361eb1b2",
   "metadata": {},
   "source": [
    "# 4. Write a Python program to find largest number in a list?"
   ]
  },
  {
   "cell_type": "code",
   "execution_count": null,
   "id": "9e3ca4ab",
   "metadata": {},
   "outputs": [],
   "source": [
    "#function\n",
    "def largest(list):\n",
    "    large= max(list)\n",
    "    return large\n",
    "\n",
    "#input of list\n",
    "li=[]\n",
    "n=int(input(\"Enter size of list \"))\n",
    "for i in range(0,n):\n",
    "    e=int(input(\"Enter element of list \"))\n",
    "    li.append(e)\n",
    "\n",
    "#smallest\n",
    "print(\"Largest in \",li,\"is\")\n",
    "print(largest(li)) "
   ]
  },
  {
   "cell_type": "markdown",
   "id": "7c81de73",
   "metadata": {},
   "source": [
    "# 5. Write a Python program to find second largest number in a list?"
   ]
  },
  {
   "cell_type": "code",
   "execution_count": null,
   "id": "dc16934a",
   "metadata": {},
   "outputs": [],
   "source": [
    "# Python program to find largest number\n",
    "# in a list\n",
    " \n",
    "# List of numbers\n",
    "list1 = [60, 33, 20, 65, 48, 45, 45, 63, 99]\n",
    " \n",
    "# Removing duplicates from the list\n",
    "list2 = list(set(list1))\n",
    " \n",
    "# Sorting the  list\n",
    "list2.sort()\n",
    " \n",
    "# Printing the second last element\n",
    "print(\"Second largest element is:\", list2[-2])"
   ]
  },
  {
   "cell_type": "markdown",
   "id": "1113eced",
   "metadata": {},
   "source": [
    "# 6. Write a Python program to find N largest elements from a list?"
   ]
  },
  {
   "cell_type": "code",
   "execution_count": null,
   "id": "a8279263",
   "metadata": {},
   "outputs": [],
   "source": [
    "def LargestFunc(list1, N):\n",
    "\tnew_list = []\n",
    "\tfor i in range(0, N):\n",
    "\t\tmax1 = 0\n",
    "\t\tfor j in range(len(list1)):\n",
    "\t\t\tif list1[j] > max1:\n",
    "\t\t\t\tmax1 = list1[j];\n",
    "\t\t\t\n",
    "\t\tlist1.remove(max1);\n",
    "\t\tnew_list.append(max1)\n",
    "\tprint(\"Largest numbers = \",new_list)\n",
    "\n",
    "# Driver code\n",
    "my_list = [1, 6, 4, 8, 4, 1, 7, 6, 10]\n",
    "N = 3\n",
    "\n",
    "# Calling the function\n",
    "LargestFunc(my_list, N)"
   ]
  },
  {
   "cell_type": "markdown",
   "id": "f3bc2e32",
   "metadata": {},
   "source": [
    "# 7. Write a Python program to print even numbers in a list?"
   ]
  },
  {
   "cell_type": "code",
   "execution_count": null,
   "id": "16d5a7b2",
   "metadata": {},
   "outputs": [],
   "source": [
    "#even numbers in list\n",
    "\n",
    "#function\n",
    "def even(list):\n",
    "    new_list=[]\n",
    "    for i in list:\n",
    "        if i%2==0:               \n",
    "            new_list.append(i)\n",
    "    return new_list\n",
    "\n",
    "#input\n",
    "li=[]\n",
    "n=int(input(\"Enter size of list \"))\n",
    "for i in range(0,n):\n",
    "    e=int(input(\"Enter element of list \"))\n",
    "    li.append(e)\n",
    "\n",
    "print(\"Even numbers in \",li)\n",
    "print(even(li))"
   ]
  },
  {
   "cell_type": "markdown",
   "id": "4a3c2fd5",
   "metadata": {},
   "source": [
    "# 8. Write a Python program to print odd numbers in a List?"
   ]
  },
  {
   "cell_type": "code",
   "execution_count": null,
   "id": "f3a1bb0d",
   "metadata": {},
   "outputs": [],
   "source": [
    "#odd numbers in list\n",
    "\n",
    "#function\n",
    "def odd(list):\n",
    "    new_list=[]\n",
    "    for i in list:\n",
    "        if i%2!=0:               \n",
    "            new_list.append(i)\n",
    "    return new_list\n",
    "\n",
    "#input\n",
    "li=[]\n",
    "n=int(input(\"Enter size of list \"))\n",
    "for i in range(0,n):\n",
    "    e=int(input(\"Enter element of list \"))\n",
    "    li.append(e)\n",
    "\n",
    "print(\"Odd numbers in \",li)\n",
    "print(odd(li))"
   ]
  },
  {
   "cell_type": "markdown",
   "id": "ef9ed2cb",
   "metadata": {},
   "source": [
    "# 9. Write a Python program to Remove empty List from List?"
   ]
  },
  {
   "cell_type": "code",
   "execution_count": null,
   "id": "a08944a3",
   "metadata": {},
   "outputs": [],
   "source": [
    "#Python Remove empty List from List using filter()\n",
    "\n",
    "# Initializing list\n",
    "myList = [1, [], 2, 3, [], 4, 5, [], [], 9]\n",
    "\n",
    "# printing original list\n",
    "print(\"The original list is : \" + str(myList))\n",
    "\n",
    "# Remove empty List from List\n",
    "result = list(filter(None, myList))\n",
    "\n",
    "# printing result\n",
    "print (\"List after empty list removal : \" + str(result))"
   ]
  },
  {
   "cell_type": "markdown",
   "id": "5e107512",
   "metadata": {},
   "source": [
    "# 10. Write a Python program to Cloning or Copying a list?"
   ]
  },
  {
   "cell_type": "code",
   "execution_count": null,
   "id": "88451762",
   "metadata": {},
   "outputs": [],
   "source": [
    "original_list = [10, 22, 44, 23, 4]\n",
    "new_list = list(original_list)\n",
    "print(original_list)\n",
    "print(new_list)"
   ]
  },
  {
   "cell_type": "markdown",
   "id": "7dceeb86",
   "metadata": {},
   "source": [
    "# 11. Write a Python program to Count occurrences of an element in a list?\n"
   ]
  },
  {
   "cell_type": "code",
   "execution_count": null,
   "id": "60815205",
   "metadata": {},
   "outputs": [],
   "source": [
    "#occurrences in list\n",
    "\n",
    "#function for counting\n",
    "def count_occurrence(list, n):\n",
    "    \n",
    "#counter variable\n",
    "    count=0\n",
    "    for i in list:\n",
    "        if(i==n):\n",
    "          #update counter variable\n",
    "            count=count+1\n",
    "    return count\n",
    "\n",
    "#input list\n",
    "li=[]\n",
    "n=int(input(\"Enter size of list \"))\n",
    "for i in range(0,n):\n",
    "    e=int(input(\"Enter element of list \"))\n",
    "    li.append(e)\n",
    "print(\"Original list: \",li)\n",
    "\n",
    "x=int(input(\"Enter element to be checked list: \"))\n",
    "\n",
    "#function call\n",
    "print(x,\" has occurred \",count_occurrence(li, x),\"times\")"
   ]
  }
 ],
 "metadata": {
  "kernelspec": {
   "display_name": "Python 3 (ipykernel)",
   "language": "python",
   "name": "python3"
  },
  "language_info": {
   "codemirror_mode": {
    "name": "ipython",
    "version": 3
   },
   "file_extension": ".py",
   "mimetype": "text/x-python",
   "name": "python",
   "nbconvert_exporter": "python",
   "pygments_lexer": "ipython3",
   "version": "3.10.9"
  }
 },
 "nbformat": 4,
 "nbformat_minor": 5
}
